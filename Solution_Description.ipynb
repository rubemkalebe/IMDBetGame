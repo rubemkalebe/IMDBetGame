{
 "cells": [
  {
   "cell_type": "markdown",
   "metadata": {},
   "source": [
    "# IMD Bet Game"
   ]
  },
  {
   "cell_type": "markdown",
   "metadata": {},
   "source": [
    "In the IMD bet game, your next move depends on the number of eyes you throw with the dice.\n"
   ]
  },
  {
   "cell_type": "markdown",
   "metadata": {},
   "source": [
    "## Rules"
   ]
  },
  {
   "cell_type": "markdown",
   "metadata": {},
   "source": [
    "**Input:**\n",
    "\n",
    "* Floor 'f', where step = max(0,f)\n",
    "* Epoch = 100\n",
    "* Seed\n",
    "* Number of rounds = 500\n",
    "\n",
    "**For each round:**\n",
    "\n",
    "* For each epoch (roll)\n",
    "    * Roll the dice\n",
    "    * Determine the next step\n",
    "        * Case 1, 2: decrease step by one\n",
    "        * Case 3, 4, 5: increase step by one\n",
    "        * Case 6\n",
    "            * Roll the dice\n",
    "            * Move according to result of dice\n",
    "        * There is a 0,1% probability that assign the step to 0 (zero) in each step.\n",
    "        * Store the current step\n",
    "* Round[i] = steps"
   ]
  },
  {
   "cell_type": "markdown",
   "metadata": {},
   "source": [
    "## My Solution"
   ]
  },
  {
   "cell_type": "markdown",
   "metadata": {},
   "source": [
    "I modeled that problem in OOP with classes. I created four classes:\n",
    "\n",
    "* Dice\n",
    "* Elevator\n",
    "* Simulator\n",
    "* Writer\n",
    "    \n",
    "The module *betGame* runs the program."
   ]
  },
  {
   "cell_type": "markdown",
   "metadata": {},
   "source": [
    "### Dice"
   ]
  },
  {
   "cell_type": "markdown",
   "metadata": {},
   "source": [
    "It represents a traditional dice with six different faces. Each face has an integer between 1 and 6. The throwing is done by simply generating a random integer from 1 to 6. I did not use a seed because *randint* has worked well without a seed."
   ]
  },
  {
   "cell_type": "code",
   "execution_count": 16,
   "metadata": {
    "collapsed": true
   },
   "outputs": [],
   "source": [
    "from random import randint\n",
    "\n",
    "class Dice(object):\n",
    "    \n",
    "    def __init__(self):\n",
    "        self.__MIN = 1\n",
    "        self.__MAX = 6\n",
    "        \n",
    "    '''\n",
    "    The act of throw a dice is done by simply generating a random integer from 1 to 6\n",
    "    '''\n",
    "    def throw(self):\n",
    "        return randint(self.__MIN, self.__MAX)"
   ]
  },
  {
   "cell_type": "markdown",
   "metadata": {},
   "source": [
    "### Elevator"
   ]
  },
  {
   "cell_type": "markdown",
   "metadata": {},
   "source": [
    "It simulates an elevator which starts at some floor, cannot go below zero, and should not have a maximum floor.\n",
    "It starts at the floor zero."
   ]
  },
  {
   "cell_type": "code",
   "execution_count": 21,
   "metadata": {
    "collapsed": true
   },
   "outputs": [],
   "source": [
    "class Elevator(object):\n",
    "\n",
    "    def __init__(self, current_floor = 0):\n",
    "        '''\n",
    "        Constructor that receives a current_floor and defines the minimum floor\n",
    "        '''\n",
    "        self.__MIN = 0\n",
    "        self.__current_floor = current_floor\n",
    "    \n",
    "    '''\n",
    "    It simulates the elevator going up x floors\n",
    "    '''\n",
    "    def move_up(self, x):\n",
    "        if(x > 0):\n",
    "            self.__current_floor += x\n",
    "        else:\n",
    "            raise ValueError('Cannot move up with the value: ' + str(x))\n",
    "    \n",
    "    '''\n",
    "    It simulates the elevator going down x floors\n",
    "    '''\n",
    "    def move_down(self, x = 1):\n",
    "        if(self.__current_floor - x >= 0 and x > 0): # Do not go below zero\n",
    "            self.__current_floor -= x\n",
    "        else:\n",
    "            raise ValueError('Cannot move down with the value: ' + str(x))\n",
    "    \n",
    "    \n",
    "    def get_current_floor(self):\n",
    "        return self.__current_floor\n",
    "\n",
    "    def set_current_floor(self, value):\n",
    "            self.__current_floor = value\n",
    "            \n",
    "    current_floor = property(get_current_floor, set_current_floor, None, None)"
   ]
  },
  {
   "cell_type": "markdown",
   "metadata": {},
   "source": [
    "### Simulator"
   ]
  },
  {
   "cell_type": "markdown",
   "metadata": {},
   "source": [
    "It simulates the Bet Game with 500 round, each one with 100 steps. I used a numpy array and followed the official documentation and a recomendation (http://stackoverflow.com/questions/568962/how-do-i-create-an-empty-array-matrix-in-numpy). I used randint without a seed because it worked well."
   ]
  },
  {
   "cell_type": "code",
   "execution_count": 18,
   "metadata": {
    "collapsed": true
   },
   "outputs": [],
   "source": [
    "from random import randint\n",
    "import numpy\n",
    "\n",
    "class Simulator(object):\n",
    "\n",
    "    def __init__(self):\n",
    "        '''\n",
    "        Initializes the threshold variables and the array which will store the\n",
    "        result\n",
    "        '''\n",
    "        self.__ROUNDS = 500\n",
    "        self.__EPOCH = 100\n",
    "        self.__result = numpy.zeros(shape = (self.__ROUNDS, self.__EPOCH), dtype = numpy.int)\n",
    "        \n",
    "    '''\n",
    "    Runs simulation\n",
    "    '''\n",
    "    def run(self):\n",
    "        dice = Dice()\n",
    "        for i in range(self.__ROUNDS):\n",
    "            elevator = Elevator()\n",
    "            for j in range(self.__EPOCH):\n",
    "                '''\n",
    "                There is a 0,1% probability that assign the step to 0 (zero)\n",
    "                in each step.\n",
    "                '''\n",
    "                if randint(1, 1000) == 1:\n",
    "                    elevator.current_floor = 0\n",
    "                else:\n",
    "                    dots = dice.throw()\n",
    "                    try:\n",
    "                        if dots == 1 or dots == 2:\n",
    "                            elevator.move_down() # move one floor down\n",
    "                        elif dots > 2 and dots < 6:\n",
    "                            elevator.move_up(1) # move one floor up\n",
    "                        else:\n",
    "                            x = dice.throw()\n",
    "                            elevator.move_up(x) # move 1..6 floors up\n",
    "                    except ValueError:\n",
    "                        pass\n",
    "                numpy.put(self.__result[i], j, elevator.current_floor)\n",
    "                    \n",
    "                    \n",
    "    def get_result(self):\n",
    "        return self.__result\n",
    "    \n",
    "    def get_rounds(self):\n",
    "        return self.__ROUNDS\n",
    "\n",
    "    def get_epoch(self):\n",
    "        return self.__EPOCH\n",
    "    \n",
    "    result = property(get_result, None, None, None)\n",
    "    ROUNDS = property(get_rounds, None, None, None)\n",
    "    EPOCH = property(get_epoch, None, None, None)"
   ]
  },
  {
   "cell_type": "markdown",
   "metadata": {},
   "source": [
    "### Writer"
   ]
  },
  {
   "cell_type": "markdown",
   "metadata": {},
   "source": [
    "Class for writing the simulation result to a file."
   ]
  },
  {
   "cell_type": "code",
   "execution_count": 19,
   "metadata": {
    "collapsed": true
   },
   "outputs": [],
   "source": [
    "class WriteToFile(object):\n",
    "\n",
    "    def __init__(self, path):\n",
    "        self.__path = path\n",
    "        \n",
    "    '''\n",
    "    Write the simulation result to a file\n",
    "    '''\n",
    "    def write(self, result, rows, colums):\n",
    "        res_file = open(self.__path, 'w')\n",
    "        for i in range(rows):\n",
    "            for j in range(colums):\n",
    "                res_file.write(str(result[i][j]) + ' ')\n",
    "            res_file.write('\\n')"
   ]
  },
  {
   "cell_type": "markdown",
   "metadata": {},
   "source": [
    "### Main"
   ]
  },
  {
   "cell_type": "markdown",
   "metadata": {},
   "source": [
    "Here I run the program. Firstly, I run the simulation and after that I write the result (all movements stored in the array) to a file named *result.out*."
   ]
  },
  {
   "cell_type": "code",
   "execution_count": 20,
   "metadata": {
    "collapsed": false
   },
   "outputs": [
    {
     "name": "stdout",
     "output_type": "stream",
     "text": [
      "Simulating...\n",
      "\n",
      "Writing...\n",
      "\n",
      "-- END --\n"
     ]
    }
   ],
   "source": [
    "print('Simulating...')\n",
    "simulator = Simulator()\n",
    "simulator.run()\n",
    "\n",
    "print('\\nWriting...')\n",
    "writer = WriteToFile('result.out')\n",
    "writer.write(simulator.result, simulator.ROUNDS, simulator.EPOCH)\n",
    "\n",
    "print('\\n-- END --')"
   ]
  },
  {
   "cell_type": "markdown",
   "metadata": {},
   "source": [
    "\n",
    "\n",
    "\n",
    "**Rubem Kalebe (rubemkalebe@gmail.com)**"
   ]
  },
  {
   "cell_type": "code",
   "execution_count": null,
   "metadata": {
    "collapsed": true
   },
   "outputs": [],
   "source": []
  }
 ],
 "metadata": {
  "kernelspec": {
   "display_name": "Python 3",
   "language": "python",
   "name": "python3"
  },
  "language_info": {
   "codemirror_mode": {
    "name": "ipython",
    "version": 3
   },
   "file_extension": ".py",
   "mimetype": "text/x-python",
   "name": "python",
   "nbconvert_exporter": "python",
   "pygments_lexer": "ipython3",
   "version": "3.6.0"
  }
 },
 "nbformat": 4,
 "nbformat_minor": 2
}
